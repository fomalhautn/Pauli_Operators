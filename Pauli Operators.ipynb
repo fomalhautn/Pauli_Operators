{
 "cells": [
  {
   "cell_type": "markdown",
   "id": "af83024b-391e-4c40-87a5-9222f4d11ceb",
   "metadata": {},
   "source": [
    "<table>\n",
    "    <tr>\n",
    "      <td>\n",
    "      <img src='https://www.ideal-ist.eu/sites/default/files/2018-10/logo_quantum_flagship.jpg' width=450>\n",
    "      </td>\n",
    "      <td>\n",
    "      <img src='https://upload.wikimedia.org/wikipedia/commons/thumb/c/cd/Logo_UniJena.svg/1200px-Logo_UniJena.svg.png' width=450>\n",
    "      </td>\n",
    "      <td>\n",
    "      <img src='https://www.akc.ac.cy/images/2022/03/Funded-by-the-European-Union.png' width=450>\n",
    "      </td>\n",
    "     </tr>\n",
    "</table>\n",
    "\n",
    "<div style=\"text-align: center; margin: 50px\">\n",
    "\n",
    "<h1 style=\"text-align: center;\">Quantum Computing, Summer 2022</h1>\n",
    "<h2 style=\"text-align: center;\"><a href=\"https://qt.eu/\">European Union Quantum Flagship /</a> <a href=\"https://qtom.qtedu.eu/\">QTEdu Quantum Technology Open Master</a></h2>\n",
    "<h2 style=\"text-align: center;\"><a href=\"https://www.uni-jena.de/en\">Friedrich Schiller University Jena</a></h2>\n",
    "<h3><em>Pauli Operators</em></h3>\n",
    "<h3>Anastasiia Andriievska</h3>\n",
    "\n",
    "</div>"
   ]
  },
  {
   "cell_type": "markdown",
   "id": "768f3be2-e274-4be6-aa4a-64558005c2ad",
   "metadata": {
    "jp-MarkdownHeadingCollapsed": true,
    "tags": []
   },
   "source": [
    "<h3>Pauli Operators</h3>\n",
    "\n",
    "![](https://wikimedia.org/api/rest_v1/media/math/render/svg/89b22ff1bbea0c7f1bb5f7a0304905108a1a704e)\n",
    "\n",
    "<h4>a)$\\;|\\psi\\rangle = \\alpha|0\\rangle + \\beta|1\\rangle$</h4>\n",
    "\n",
    "$\\sigma_x|\\psi\\rangle=\\beta|0\\rangle+\\alpha|1\\rangle$\n",
    "\n",
    "${|\\sigma\\rangle}\\leftrightarrow{|1\\rangle}$<br>\n",
    "${|0\\rangle},{|1\\rangle}$<br>\n",
    "${|0\\rangle}\\rightarrow{|1\\rangle}$<br>\n",
    "${|1\\rangle}\\rightarrow{|0\\rangle}$\n",
    "\n",
    "$\\hat{\\sigma}_1=|+\\rangle\\langle+| - |-\\rangle\\langle-|\\;$<br>\n",
    "\n",
    "$|0\\rangle_\\pm=\\frac{1}{\\sqrt{2}}\\lbrack|+\\rangle - |-\\rangle\\rbrack$\n",
    "\n",
    "$\\hat{\\sigma}_1|0\\rangle=|1\\rangle$<br>\n",
    "\n",
    "<h4>b)$\\;\\sigma_z|\\psi\\rangle=\\alpha|0\\rangle-\\beta|1\\rangle=\\alpha|0\\rangle+e^{2\\pi}\\beta|1\\rangle$</h4>\n",
    "\n",
    "$\\hat{\\sigma}_3=|0\\rangle\\langle0| - |1\\rangle\\langle1|\\;$\n",
    "\n",
    "$\\hat{\\sigma}_3|0\\rangle=|0\\rangle$\n",
    "\n",
    "$\\hat{\\sigma}_3|1\\rangle=-|1\\rangle$\n",
    "\n",
    "$\\hat{\\sigma}_3|+\\rangle=\\frac{1}{\\sqrt{2}}\\lbrack|0\\rangle - |1\\rangle\\rbrack=|-\\rangle$\n",
    "\n",
    "$\\hat{\\sigma}_3|-\\rangle=\\frac{1}{\\sqrt{2}}\\lbrack|0\\rangle + |1\\rangle\\rbrack=|+\\rangle$<br>\n",
    "\n",
    "<h4>c) Find U s.t. U $|\\pm\\rangle=|\\sigma_{1}\\rangle$</h4>\n",
    "\n",
    "In general $\\;\\{{|a_{i}\\rangle\\}}\\rightarrow{\\{|b_{i}\\rangle\\}}$\n",
    "\n",
    "U =$\\;\\sum{|b_{i}\\rangle\\langle a_{i}|} $<br>\n",
    "\n",
    "$U|a_{i}\\rangle=|b_{i}\\rangle=>U=|0\\rangle\\langle +|+|1\\rangle\\langle -|=\\frac{1}{\\sqrt{2}}\\left(\\binom{1}{0}(1\\;1)+\\binom{0}{1}(1\\;-1)\\right)=\\frac{1}{\\sqrt{2}}\\binom{1\\;\\;1}{\\;1\\;-1}=H$\n",
    "\n",
    "<h4>d) Show $\\;\\hat{\\sigma}_{i}\\hat{\\sigma}_{j}=\\sigma_{i,j}||+i{\\in_{ijk}}\\hat{\\sigma_k}$</h4>\n",
    "\n",
    "$\\sigma_{i}\\sigma_{i}\\;$ in their eigenbasis $\\;\\sigma_i=\\binom{1\\;\\;0}{\\;0\\;-1}=>\\sigma_i^2=||$ \n",
    "\n",
    "$\\sigma_{1}\\sigma_{2}=\\binom{0\\;\\;1}{1\\;0}\\binom{\\;0\\;-i}{i\\;0}=\\binom{i\\;\\;0}{0\\;\\;-i}=i\\sigma_3$ \n",
    "\n",
    "$\\sigma_{2}\\sigma_{3}=i\\sigma_1$ \n",
    "\n",
    "$\\sigma_{3}\\sigma_{1}=i\\sigma_2=>\\hat{\\sigma}_{i}\\hat{\\sigma}_{j}=\\sigma_{i,j}||+i{\\in_{ijk}}\\hat{\\sigma_k}$ \n",
    "\n",
    "<h4>e) Show $\\;\\lbrack\\hat{\\sigma}_{i}\\hat{\\sigma}_{j}\\rbrack=2i{\\in_{ijk}}\\hat{\\sigma_k}$</h4>\n",
    "\n",
    "$\\lbrack\\hat{\\sigma}_{i}\\hat{\\sigma}_{j}\\rbrack=\\sigma_{i}\\sigma_{j}-\\sigma_{j}\\sigma_{i}=\\sigma_{i,j}||+i{\\in_{ijk}}{\\sigma_k}-\\sigma_{i,j}||-i{\\in_{ijk}}{\\sigma_k}=2i{\\in_{ijk}}\\hat{\\sigma_k}$<br>\n",
    "\n",
    "<h4>f) Which linear optical components can be used to transform any eigenstate into any arbitrary other eigenstate?</h4>\n",
    "\n",
    "<h5>Polarizer, Half wave plate, Quantum wave plate.</h5>"
   ]
  },
  {
   "cell_type": "markdown",
   "id": "569b08af-4893-4344-8fb2-f3fed5d70cbc",
   "metadata": {
    "tags": []
   },
   "source": [
    "<h3>Show that the Pauli-Operators are mutually unbiased, i.e., prove relation (73) of the script:</h3>\n",
    "$$ \\left[\\sigma_i\\sigma_j\\right] = 2i{\\in_{ijk}}{\\sigma_k} $$"
   ]
  },
  {
   "cell_type": "markdown",
   "id": "587462ec-7dd6-4310-81ec-7c939ec27bec",
   "metadata": {},
   "source": [
    "In mathematical physics and mathematics, the Pauli matrices are a set of three 2 × 2 complex matrices which are Hermitian, involutory and unitary. Usually indicated by the Greek letter sigma (σ). Reference: <a id=\"references\"></a> https://en.wikipedia.org/wiki/Pauli_matrices."
   ]
  },
  {
   "cell_type": "markdown",
   "id": "908e2f79-44ab-4a41-bbe7-1e04261a5baf",
   "metadata": {
    "tags": []
   },
   "source": [
    "<h3>Solution</h3>\n",
    "$ \\sigma_1 = |+\\rangle\\langle+| - |-\\rangle\\langle-| $ <br>\n",
    "$ \\sigma_2 = |L\\rangle\\langle L| - |R\\rangle\\langle R| $ <br>\n",
    "$ \\sigma_3 = |0\\rangle\\langle0| - |1\\rangle\\langle1| $ <br> <br>\n",
    "$ \\sigma_1\\sigma_3 = (|+\\rangle\\langle+| - |-\\rangle\\langle-|)\\;(|0\\rangle\\langle0| - |1\\rangle\\langle1|) = (|1\\rangle\\langle0| - |0\\rangle\\langle0|) = -i (i|1\\rangle\\langle0| - i|0\\rangle\\langle1|) = -i\\sigma_2 $ <br>\n",
    "$ \\sigma_3\\sigma_1 = i\\sigma_2 $ <br>\n",
    "$ \\sigma_i\\sigma_j = i{\\in_{ijk}}{\\sigma_k} $ <br><br>\n",
    "$ \\left[\\sigma_i\\sigma_j\\right] = \\sigma_i\\sigma_j - \\sigma_j\\sigma_i = 2i{\\in_{ijk}}{\\sigma_k} $"
   ]
  },
  {
   "cell_type": "markdown",
   "id": "a067a800-2e5f-4e6e-9c67-14cd3b3c8ba3",
   "metadata": {},
   "source": [
    "Copyright 2022 Anastasiia Andriievska\n",
    "\n",
    "Licensed under the Apache License, Version 2.0 (the \"License\");\n",
    "you may not use this file except in compliance with the License.\n",
    "You may obtain a copy of the License at\n",
    "\n",
    "   http://www.apache.org/licenses/LICENSE-2.0\n",
    "\n",
    "Unless required by applicable law or agreed to in writing, software\n",
    "distributed under the License is distributed on an \"AS IS\" BASIS,\n",
    "WITHOUT WARRANTIES OR CONDITIONS OF ANY KIND, either express or implied.\n",
    "See the License for the specific language governing permissions and\n",
    "limitations under the License"
   ]
  }
 ],
 "metadata": {
  "kernelspec": {
   "display_name": "Python 3 (ipykernel)",
   "language": "python",
   "name": "python3"
  },
  "language_info": {
   "codemirror_mode": {
    "name": "ipython",
    "version": 3
   },
   "file_extension": ".py",
   "mimetype": "text/x-python",
   "name": "python",
   "nbconvert_exporter": "python",
   "pygments_lexer": "ipython3",
   "version": "3.8.13"
  },
  "widgets": {
   "application/vnd.jupyter.widget-state+json": {
    "state": {},
    "version_major": 2,
    "version_minor": 0
   }
  }
 },
 "nbformat": 4,
 "nbformat_minor": 5
}
